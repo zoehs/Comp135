{
 "cells": [
  {
   "cell_type": "markdown",
   "metadata": {},
   "source": [
    "# HW1 : Regression, Cross-Validation, and  Regularization"
   ]
  },
  {
   "cell_type": "code",
   "execution_count": 14,
   "metadata": {},
   "outputs": [],
   "source": [
    "import os\n",
    "import numpy as np\n",
    "import warnings\n",
    "\n",
    "import sklearn.preprocessing\n",
    "import sklearn.pipeline\n",
    "import sklearn.linear_model\n",
    "import sklearn.neighbors\n",
    "import sklearn.model_selection\n",
    "from sklearn.metrics import mean_squared_error"
   ]
  },
  {
   "cell_type": "code",
   "execution_count": 15,
   "metadata": {},
   "outputs": [],
   "source": [
    "from matplotlib import pyplot as plt\n",
    "%matplotlib inline\n",
    "\n",
    "import seaborn as sns\n",
    "sns.set('notebook', font_scale=1.25, style='whitegrid')"
   ]
  },
  {
   "cell_type": "markdown",
   "metadata": {},
   "source": [
    "# Set random seed to make all computations reproducible"
   ]
  },
  {
   "cell_type": "code",
   "execution_count": 16,
   "metadata": {},
   "outputs": [],
   "source": [
    "SEED = 12345"
   ]
  },
  {
   "cell_type": "markdown",
   "metadata": {},
   "source": [
    "# Load the dataset\n",
    "\n",
    "Predefined 'x' and 'y' arrays for train/valid/test"
   ]
  },
  {
   "cell_type": "code",
   "execution_count": 17,
   "metadata": {},
   "outputs": [],
   "source": [
    "DATA_DIR = '/Users/zoehsieh/Desktop/Comp135/hw1/'"
   ]
  },
  {
   "cell_type": "code",
   "execution_count": 18,
   "metadata": {},
   "outputs": [],
   "source": [
    "x_tr_MF = np.loadtxt(os.path.join(DATA_DIR, 'x_train.csv'), delimiter=',', skiprows=1)\n",
    "x_va_NF = np.loadtxt(os.path.join(DATA_DIR, 'x_valid.csv'), delimiter=',', skiprows=1)\n",
    "x_te_PF = np.loadtxt(os.path.join(DATA_DIR, 'x_test.csv'), delimiter=',', skiprows=1)"
   ]
  },
  {
   "cell_type": "code",
   "execution_count": 19,
   "metadata": {},
   "outputs": [],
   "source": [
    "y_tr_M = np.loadtxt(os.path.join(DATA_DIR, 'y_train.csv'), delimiter=',', skiprows=1)\n",
    "y_va_N = np.loadtxt(os.path.join(DATA_DIR, 'y_valid.csv'), delimiter=',', skiprows=1)\n",
    "y_te_P = np.loadtxt(os.path.join(DATA_DIR, 'y_test.csv'), delimiter=',', skiprows=1)"
   ]
  },
  {
   "cell_type": "markdown",
   "metadata": {},
   "source": [
    "# Load completed code"
   ]
  },
  {
   "cell_type": "code",
   "execution_count": 20,
   "metadata": {},
   "outputs": [],
   "source": [
    "from cross_validation import train_models_and_calc_scores_for_n_fold_cv\n",
    "from performance_metrics import calc_mean_squared_error"
   ]
  },
  {
   "cell_type": "markdown",
   "metadata": {},
   "source": [
    "# Define useful plotting functions"
   ]
  },
  {
   "cell_type": "code",
   "execution_count": 21,
   "metadata": {},
   "outputs": [],
   "source": [
    "def plot_train_and_valid_error_vs_degree(\n",
    "        degree_list, err_tr_list=None, err_va_list=None):\n",
    "    ''' Plot provided errors versus degrees on a new figure\n",
    "    '''\n",
    "    if err_va_list is not None:\n",
    "        plt.plot(degree_list, err_va_list, 'rs-', label='valid');\n",
    "    if err_tr_list is not None:\n",
    "        plt.plot(degree_list, err_tr_list, 'bd:', label='train');\n",
    "    plt.ylim([0, 74]); # Do NOT change this! Helps all reports look the same.\n",
    "    plt.legend(loc='upper right'); # Always include a legend"
   ]
  },
  {
   "cell_type": "markdown",
   "metadata": {},
   "source": [
    "# Define methods for building pipelines\n",
    "\n",
    "Remember, we discussed pipelines in the lab from day04 on \"Feature Engineering\""
   ]
  },
  {
   "cell_type": "code",
   "execution_count": 37,
   "metadata": {},
   "outputs": [],
   "source": [
    "def make_poly_linear_regr_pipeline(degree=1):\n",
    "    pipeline = sklearn.pipeline.Pipeline(\n",
    "        steps=[\n",
    "         ('rescaler', sklearn.preprocessing.MinMaxScaler()),\n",
    "         ('poly_transformer', sklearn.preprocessing.PolynomialFeatures(degree=degree, include_bias=False)),\n",
    "         ('linear_regr', sklearn.linear_model.LinearRegression()),\n",
    "        ])\n",
    "\n",
    "    # Return the constructed pipeline\n",
    "    # We can treat it as if it has a 'regression' API\n",
    "    # e.g. a fit and a predict method\n",
    "    return pipeline"
   ]
  },
  {
   "cell_type": "code",
   "execution_count": 38,
   "metadata": {},
   "outputs": [],
   "source": [
    "def make_poly_ridge_regr_pipeline(degree=1, alpha=1.0):\n",
    "    pipeline = sklearn.pipeline.Pipeline(\n",
    "        steps=[\n",
    "         ('rescaler', sklearn.preprocessing.MinMaxScaler()),\n",
    "         ('poly_transformer', sklearn.preprocessing.PolynomialFeatures(degree=degree, include_bias=False)),\n",
    "         ('ridge_regr', sklearn.linear_model.Ridge(alpha=alpha)),\n",
    "        ])\n",
    "    \n",
    "    # Return the constructed pipeline\n",
    "    # We can treat it as if it has a 'regression' API\n",
    "    # e.g. a fit and a predict method\n",
    "    return pipeline"
   ]
  },
  {
   "cell_type": "markdown",
   "metadata": {},
   "source": [
    "# Problem 1: Polynomial Degree Selection on Fixed Validation Set"
   ]
  },
  {
   "cell_type": "code",
   "execution_count": 47,
   "metadata": {},
   "outputs": [],
   "source": [
    "degree_list = [1, 2, 3, 4, 5, 6, 7]\n",
    "fv_err_tr_list = []\n",
    "fv_err_va_list = []\n",
    "\n",
    "pipeline_list = []\n",
    "for degree in degree_list:\n",
    "\n",
    "    # TODO create a pipeline using features with current degree value\n",
    "    pipeline = make_poly_linear_regr_pipeline(degree)\n",
    "    \n",
    "\n",
    "    # TODO train this pipeline on provided training data\n",
    "    pipeline.fit(x_tr_MF, y_tr_M)\n",
    "    \n",
    "    # Compute training error\n",
    "    yhat_tr_M = pipeline.predict(x_tr_MF)  # TODO fixme\n",
    "   \n",
    "    err_tr = mean_squared_error(y_tr_M, yhat_tr_M)\n",
    "    \n",
    "    # Compute validation error\n",
    "    yhat_va_N = pipeline.predict(x_va_NF)  # TODO fixme\n",
    "    err_va = mean_squared_error(y_va_N, yhat_va_N)\n",
    "\n",
    "    fv_err_tr_list.append(err_tr)\n",
    "    fv_err_va_list.append(err_va)\n",
    "    \n",
    "    pipeline_list.append(pipeline)"
   ]
  },
  {
   "cell_type": "markdown",
   "metadata": {},
   "source": [
    "### Figure 1: Error vs degree"
   ]
  },
  {
   "cell_type": "code",
   "execution_count": 48,
   "metadata": {},
   "outputs": [
    {
     "data": {
      "image/png": "[encoded data removed]",
      "text/plain": [
       "<Figure size 432x288 with 1 Axes>"
      ]
     },
     "metadata": {},
     "output_type": "display_data"
    }
   ],
   "source": [
    "plot_train_and_valid_error_vs_degree(degree_list, fv_err_tr_list, fv_err_va_list);\n",
    "plt.title('Model Selection with Fixed Validation Set: Error vs. Degree');\n",
    "plt.savefig('figure1-err_vs_degree-fv.pdf')"
   ]
  },
  {
   "cell_type": "markdown",
   "metadata": {},
   "source": [
    "### Prediction 1: Score on the test set using the chosen model"
   ]
  },
  {
   "cell_type": "code",
   "execution_count": 58,
   "metadata": {},
   "outputs": [
    {
     "name": "stdout",
     "output_type": "stream",
     "text": [
      "957797765.4800904\n",
      "5546360787986.932\n"
     ]
    }
   ],
   "source": [
    "print(pipeline_list[6].named_steps[\"linear_regr\"].intercept_)\n",
    "print(max(pipeline_list[5].named_steps[\"linear_regr\"].coef_))\n",
    "\n"
   ]
  },
  {
   "cell_type": "code",
   "execution_count": 29,
   "metadata": {},
   "outputs": [
    {
     "name": "stdout",
     "output_type": "stream",
     "text": [
      "Selected Parameters:\n",
      "1, 2, 3\n",
      "Fixed validation set estimate of heldout error:\n",
      "19.0, 15.8, 17.3\n",
      "Error on the test-set:\n",
      "17.5, 15.9, 18.13\n"
     ]
    }
   ],
   "source": [
    "print(\"Selected Parameters:\")\n",
    "print(\"1, 2, 3\")\n",
    "print(\"Fixed validation set estimate of heldout error:\")\n",
    "print(\"19.0, 15.8, 17.3\")\n",
    "print(\"Error on the test-set:\")\n",
    "print(\"17.5, 15.9, 18.13\")"
   ]
  },
  {
   "cell_type": "markdown",
   "metadata": {},
   "source": [
    "# Problem 2: Cross Validation for Polynomial Feature Regression"
   ]
  },
  {
   "cell_type": "code",
   "execution_count": 15,
   "metadata": {},
   "outputs": [],
   "source": [
    "x_trva_LF = x_tr_MF.copy()  # TODO fix concat your train and validation set x values\n",
    "y_trva_L = y_tr_M.copy()    # TODO fix concat your train and validation set y values"
   ]
  },
  {
   "cell_type": "code",
   "execution_count": 16,
   "metadata": {},
   "outputs": [],
   "source": [
    "K = 10 # num folds\n",
    "\n",
    "degree_list = [1, 2, 3, 4, 5, 6, 7]\n",
    "cv_err_tr_list = []\n",
    "cv_err_va_list = []\n",
    "\n",
    "for degree in degree_list:\n",
    "\n",
    "    # TODO create a pipeline using features with current degree value\n",
    "        \n",
    "    # TODO call your function to train a separate model for each fold and return train and valid errors\n",
    "    # Don't forget to pass random_state = SEED (where SEED is defined above) so its reproducible\n",
    "    # tr_error_K, valid_error_K = train_models_and_calc_scores_for_n_fold_cv() # TODO\n",
    "    \n",
    "    err_tr = 20.0 # TODO fixme, compute average error across all train folds\n",
    "    err_va = 25.0 # TODO fixme, compute average error across all heldout folds\n",
    "    \n",
    "    cv_err_tr_list.append(err_tr)\n",
    "    cv_err_va_list.append(err_va)"
   ]
  },
  {
   "cell_type": "markdown",
   "metadata": {},
   "source": [
    "### Figure 2: Error vs degree"
   ]
  },
  {
   "cell_type": "code",
   "execution_count": 17,
   "metadata": {},
   "outputs": [
    {
     "data": {
      "image/png": "[encoded data removed]",
      "text/plain": [
       "<Figure size 432x288 with 1 Axes>"
      ]
     },
     "metadata": {},
     "output_type": "display_data"
    }
   ],
   "source": [
    "plot_train_and_valid_error_vs_degree(degree_list, cv_err_tr_list, cv_err_va_list)\n",
    "plt.title('Linear Regr. Model Selection with 10-fold Cross-Validation: Error vs. Degree');\n",
    "plt.savefig('figure2-err_vs_degree-cv-seed=%d.pdf' % SEED)"
   ]
  },
  {
   "cell_type": "markdown",
   "metadata": {},
   "source": [
    "### Prediction 2: Score on the test set using the chosen model\n",
    "\n",
    "Use the chosen hyperparameters, retrain ONE model on the FULL train+valid set.\n",
    "Then make predictions on the heldout test set."
   ]
  },
  {
   "cell_type": "code",
   "execution_count": 18,
   "metadata": {},
   "outputs": [],
   "source": [
    "# TODO compute score on test set for later"
   ]
  },
  {
   "cell_type": "code",
   "execution_count": 19,
   "metadata": {},
   "outputs": [
    {
     "name": "stdout",
     "output_type": "stream",
     "text": [
      "Selected Parameters:\n",
      "TODO\n",
      "10-fold CV estimate of heldout error:\n",
      "TODO\n",
      "Error on the test-set:\n",
      "TODO\n"
     ]
    }
   ],
   "source": [
    "print(\"Selected Parameters:\")\n",
    "print(\"TODO\")\n",
    "print(\"10-fold CV estimate of heldout error:\")\n",
    "print(\"TODO\")\n",
    "print(\"Error on the test-set:\")\n",
    "print(\"TODO\")"
   ]
  },
  {
   "cell_type": "markdown",
   "metadata": {},
   "source": [
    "# Problem 3: Cross Validation for Ridge Regression"
   ]
  },
  {
   "cell_type": "code",
   "execution_count": 20,
   "metadata": {},
   "outputs": [],
   "source": [
    "alpha_grid = np.logspace(-6, 6, 13) # 10^-6, 10^-5, 10^-4, ... 10^-1, 10^0, 10^1, ... 10^6\n",
    "\n",
    "degree_list = [1, 2, 3, 4, 5, 6, 7]\n",
    "\n",
    "K = 10 # num folds\n",
    "ridge_cv_err_tr_list = []\n",
    "ridge_cv_err_va_list = []\n",
    "\n",
    "ridge_param_list = list()\n",
    "\n",
    "for degree in degree_list:\n",
    "    for alpha in alpha_grid:\n",
    "        ridge_param_list.append(dict(alpha=alpha, degree=degree))\n",
    "        # TODO create a pipeline using features with current degree value\n",
    "        \n",
    "        # TODO call your function to train a separate model for each fold and return train and valid errors\n",
    "        # Don't forget to pass random_state = SEED (where SEED is defined above) so its reproducible\n",
    "        # tr_error_K, valid_error_K = train_models_and_calc_scores_for_n_fold_cv() # TODO\n",
    "    \n",
    "        err_tr = 20.0 # TODO fixme, compute average error across all train folds\n",
    "        err_va = 25.0 # TODO fixme, compute average error across all heldout folds\n",
    "    \n",
    "        ridge_cv_err_tr_list.append(err_tr)\n",
    "        ridge_cv_err_va_list.append(err_va)"
   ]
  },
  {
   "cell_type": "markdown",
   "metadata": {},
   "source": [
    "### Figure 3: Error vs degree at alpha = 10^-3, alpha = 1, alpha = 1000"
   ]
  },
  {
   "cell_type": "code",
   "execution_count": 21,
   "metadata": {
    "scrolled": true
   },
   "outputs": [
    {
     "data": {
      "image/png": "[encoded data removed]",
      "text/plain": [
       "<Figure size 1152x396 with 3 Axes>"
      ]
     },
     "metadata": {},
     "output_type": "display_data"
    }
   ],
   "source": [
    "fig, ax_grid = plt.subplots(nrows=1, ncols=3, sharex=True, sharey=True, figsize=(16, 5.5))\n",
    "\n",
    "for aa, alpha in enumerate([0.00001, 0.1, 1000.0]):\n",
    "    # Find the elements of the param list that correspond to setting alpha to specific value\n",
    "    match_ids = [pp for pp in range(len(ridge_param_list)) if np.allclose(alpha, ridge_param_list[pp]['alpha'])]\n",
    "    train_err = np.asarray(ridge_cv_err_tr_list)[match_ids]\n",
    "    test_err = np.asarray(ridge_cv_err_va_list)[match_ids]\n",
    "\n",
    "    # Select which panel (of the 3 in figure) to be current active axis\n",
    "    cur_ax = ax_grid[aa]\n",
    "    plt.sca(cur_ax);\n",
    "    \n",
    "    # Set the title of the active axis\n",
    "    cur_ax.set_title('alpha = %.5g' % alpha)\n",
    "\n",
    "    # Draw line plot in active axis\n",
    "    plot_train_and_valid_error_vs_degree(degree_list, train_err, test_err)\n",
    "\n",
    "plt.suptitle('Ridge Model Selection with 10-fold Cross-Validation: Error vs. Degree');\n",
    "plt.savefig('figure3-3_panels_by_alpha-err_vs_degree-seed=%d.pdf' % SEED, pad_inches=0, bbox_inches='tight')"
   ]
  },
  {
   "cell_type": "markdown",
   "metadata": {},
   "source": [
    "### Prediction 3: Score on the test set using the chosen model\n"
   ]
  },
  {
   "cell_type": "code",
   "execution_count": 22,
   "metadata": {},
   "outputs": [
    {
     "name": "stdout",
     "output_type": "stream",
     "text": [
      "Selected Parameters (alpha and degree):\n",
      "TODO\n",
      "10-fold CV estimate of heldout error:\n",
      "TODO\n",
      "Error on the test-set:\n",
      "TODO\n"
     ]
    }
   ],
   "source": [
    "print(\"Selected Parameters (alpha and degree):\")\n",
    "print(\"TODO\")\n",
    "print(\"10-fold CV estimate of heldout error:\")\n",
    "print(\"TODO\")\n",
    "print(\"Error on the test-set:\")\n",
    "print(\"TODO\")"
   ]
  },
  {
   "cell_type": "code",
   "execution_count": null,
   "metadata": {},
   "outputs": [],
   "source": []
  }
 ],
 "metadata": {
  "kernelspec": {
   "display_name": "Python 3",
   "language": "python",
   "name": "python3"
  },
  "language_info": {
   "codemirror_mode": {
    "name": "ipython",
    "version": 3
   },
   "file_extension": ".py",
   "mimetype": "text/x-python",
   "name": "python",
   "nbconvert_exporter": "python",
   "pygments_lexer": "ipython3",
   "version": "3.8.2"
  }
 },
 "nbformat": 4,
 "nbformat_minor": 4
}
