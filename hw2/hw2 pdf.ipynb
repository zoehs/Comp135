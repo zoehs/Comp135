{
 "cells": [
  {
   "cell_type": "code",
   "execution_count": 1,
   "metadata": {},
   "outputs": [],
   "source": [
    "import os\n",
    "import numpy as np\n",
    "import warnings\n",
    "\n",
    "import sklearn.preprocessing\n",
    "import sklearn.pipeline\n",
    "import sklearn.linear_model\n",
    "import sklearn.neighbors\n",
    "import sklearn.model_selection\n"
   ]
  },
  {
   "cell_type": "code",
   "execution_count": 2,
   "metadata": {},
   "outputs": [],
   "source": [
    "from matplotlib import pyplot as plt\n",
    "%matplotlib inline\n",
    "\n",
    "import seaborn as sns\n",
    "sns.set('notebook', font_scale=1.25, style='whitegrid')"
   ]
  },
  {
   "cell_type": "code",
   "execution_count": 19,
   "metadata": {},
   "outputs": [],
   "source": [
    "DATA_DIR = '/users/zoehsieh/Desktop/Comp135/hw2/'"
   ]
  },
  {
   "cell_type": "code",
   "execution_count": 20,
   "metadata": {},
   "outputs": [],
   "source": [
    "x_train = np.loadtxt(os.path.join(DATA_DIR, 'x_train.csv'), delimiter=',', skiprows=1)\n",
    "x_valid = np.loadtxt(os.path.join(DATA_DIR, 'x_valid.csv'), delimiter=',', skiprows=1)\n",
    "x_test = np.loadtxt(os.path.join(DATA_DIR, 'x_test.csv'), delimiter=',', skiprows=1)"
   ]
  },
  {
   "cell_type": "code",
   "execution_count": 21,
   "metadata": {},
   "outputs": [],
   "source": [
    "y_train = np.loadtxt(os.path.join(DATA_DIR, 'y_train.csv'), delimiter=',', skiprows=1)\n",
    "y_valid = np.loadtxt(os.path.join(DATA_DIR, 'y_valid.csv'), delimiter=',', skiprows=1)\n",
    "y_test = np.loadtxt(os.path.join(DATA_DIR, 'y_test.csv'), delimiter=',', skiprows=1)"
   ]
  },
  {
   "cell_type": "code",
   "execution_count": 24,
   "metadata": {},
   "outputs": [
    {
     "name": "stdout",
     "output_type": "stream",
     "text": [
      "1170\n",
      "540\n",
      "540\n"
     ]
    }
   ],
   "source": [
    "#total examples\n",
    "print(x_train.size)\n",
    "print(x_test.size)\n",
    "print(x_valid.size)"
   ]
  },
  {
   "cell_type": "code",
   "execution_count": 36,
   "metadata": {},
   "outputs": [
    {
     "name": "stdout",
     "output_type": "stream",
     "text": [
      "390\n",
      "55\n",
      "0.14102564102564102\n"
     ]
    }
   ],
   "source": [
    "#positive label count -- y train\n",
    "total = 0\n",
    "for i in range(y_train.size):\n",
    "    if y_train[i] == 1:\n",
    "        total = total + 1\n",
    "frac = total / y_train.size\n",
    "\n",
    "print(y_train.size)\n",
    "print(total)\n",
    "print(frac)\n",
    "\n",
    "\n",
    "#335 true negatives\n",
    "#55 false negatives\n",
    "#0 TP and FP"
   ]
  },
  {
   "cell_type": "code",
   "execution_count": 41,
   "metadata": {},
   "outputs": [
    {
     "name": "stdout",
     "output_type": "stream",
     "text": [
      "180\n",
      "25\n",
      "0.1388888888888889\n",
      "0.8611111111111112\n"
     ]
    }
   ],
   "source": [
    "#positive label count -- y test\n",
    "total = 0\n",
    "for i in range(y_test.size):\n",
    "    if y_test[i] == 1:\n",
    "        total = total + 1\n",
    "frac = total / y_test.size\n",
    "\n",
    "print(y_test.size)\n",
    "print(total)\n",
    "print(frac)\n",
    "print(1-frac)"
   ]
  },
  {
   "cell_type": "code",
   "execution_count": 42,
   "metadata": {},
   "outputs": [
    {
     "name": "stdout",
     "output_type": "stream",
     "text": [
      "180\n",
      "25\n",
      "0.1388888888888889\n"
     ]
    }
   ],
   "source": [
    "#positive label count -- y valid\n",
    "total = 0\n",
    "for i in range(y_valid.size):\n",
    "    if y_valid[i] == 1:\n",
    "        total = total + 1\n",
    "frac = total / y_valid.size\n",
    "\n",
    "print(y_valid.size)\n",
    "print(total)\n",
    "print(frac)"
   ]
  },
  {
   "cell_type": "code",
   "execution_count": 40,
   "metadata": {},
   "outputs": [],
   "source": [
    "#1a -- the accuracy is 86.111%, no bc same answer, no threshold, on a diff data set could have worse accuracy\n",
    "#1b -- "
   ]
  },
  {
   "cell_type": "code",
   "execution_count": null,
   "metadata": {},
   "outputs": [],
   "source": [
    "lr = sklearn.linear_model.LogisticRegression(C=1000000.0, solver='lbfgs')\n",
    "C_grid = np.logspace(-9, 6, 31)\n"
   ]
  }
 ],
 "metadata": {
  "kernelspec": {
   "display_name": "Python 3",
   "language": "python",
   "name": "python3"
  },
  "language_info": {
   "codemirror_mode": {
    "name": "ipython",
    "version": 3
   },
   "file_extension": ".py",
   "mimetype": "text/x-python",
   "name": "python",
   "nbconvert_exporter": "python",
   "pygments_lexer": "ipython3",
   "version": "3.8.2"
  }
 },
 "nbformat": 4,
 "nbformat_minor": 4
}
